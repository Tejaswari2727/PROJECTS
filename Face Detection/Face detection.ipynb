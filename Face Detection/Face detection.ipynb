import cv2
from matplotlib import pyplot as plt

# Load the Haar Cascade for face detection
cascade_classifier = cv2.CascadeClassifier(cv2.data.haarcascades + "haarcascade_frontalface_default.xml")
# This loads a pre-trained face detection model using Haar Cascades. It detects frontal faces.

# Initialize video capture
cap = cv2.VideoCapture(0)
# This connects to the default camera (index 0) to start capturing video.

plt.ion()  # Enable interactive mode to update images in real-time
# Enables Matplotlib's interactive mode so the image display updates without blocking program execution.

while True:  # Start an infinite loop to capture and process frames continuously.
    ret, frame = cap.read()
    # Capture a single frame from the webcam.
    # `ret` is a boolean: True if a frame is captured successfully, False otherwise.
    # `frame` contains the captured image data.

    if not ret:  # If the frame capture fails, exit the loop.
        break

    gray = cv2.cvtColor(frame, cv2.COLOR_BGR2GRAY)
    # Converts the captured frame from BGR color format to grayscale.
    # Grayscale images are simpler and faster for face detection.

    faces = cascade_classifier.detectMultiScale(gray, scaleFactor=1.1, minNeighbors=4)
    # Detects faces in the grayscale image using the Haar Cascade.
    # `scaleFactor`: Reduces the image size step-by-step to detect faces at different scales.
    # `minNeighbors`: Minimum number of nearby rectangles needed to confirm a face.

    for (x, y, w, h) in faces:
        # Loop through each detected face. Each face is represented by its rectangle's coordinates:
        # `x`, `y`: Top-left corner of the rectangle.
        # `w`, `h`: Width and height of the rectangle.
        cv2.rectangle(frame, (x, y), (x + w, y + h), (255, 0, 0), 2)
        # Draws a rectangle around the detected face on the original frame.
        # `(255, 0, 0)`: Blue color for the rectangle in BGR format.
        # `2`: Thickness of the rectangle.

    frame_rgb = cv2.cvtColor(frame, cv2.COLOR_BGR2RGB)
    # Converts the frame from BGR (OpenCV's default) to RGB for Matplotlib to display correctly.

    plt.imshow(frame_rgb)  # Displays the current frame as an image.
    plt.axis('off')  # Hides the axis around the image for a cleaner display.
    plt.pause(0.001)  # Pauses for 1 millisecond to allow the display to update.
    plt.clf()  # Clears the Matplotlib display so the next frame can replace it.

    if cv2.waitKey(1) & 0xFF == ord('q'):
        # Waits 1 millisecond for a key press.
        # If the user presses the 'q' key, exit the loop.
        break

# Release the capture and close all windows
cap.release()
# Releases the webcam resource so it can be used by other programs.

plt.close()  # Closes the Matplotlib window.
# Cleans up and exits the program gracefully.
