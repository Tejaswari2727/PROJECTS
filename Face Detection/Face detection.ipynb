{
 "cells": [
  {
   "cell_type": "code",
   "execution_count": null,
   "id": "c0d3883f-dffc-42fe-ac95-69c1764e7317",
   "metadata": {},
   "outputs": [],
   "source": [
    "import cv2\n",
    "\n",

    "# Load the Haar Cascade for face detection\n",
    "cascade_classifier = cv2.CascadeClassifier(cv2.data.haarcascades + \"haarcascade_frontalface_default.xml\")\n", 

'''#cv2.CascadeClassifier:  This is a class used to load cascade files for object detection.
#cv2.data.haarcascades:  Provides the path to the Haar Cascade files included with OpenCV.
#"haarcascade_frontalface_default.xml":  This is the specific model file for detecting frontal faces.'''



    "#cascade_classifier = cv2.CascadeClassifier(\"haarcascades\\haarcascade_eye.xml\")\n",
    "\n",

What it does: This line is commented out, but it could load another Haar Cascade for eye detection (haarcascade_eye.xml). 
This is an alternative model for detecting eyes instead of faces.
  
"# Initialize video capture\n",
    "cap = cv2.VideoCapture(0)\n",
    "\n",

'''Opens a connection to the webcam for capturing video.
0: Refers to the default webcam on your computer. Use 1 or higher for other connected cameras.'''

    "# Check if the video capture was successful\n",
    "if not cap.isOpened():\n",
    "    print(\"Error: Could not open video.\")\n",
    "    exit()  # Exit if the camera cannot be opened\n",
    "\n",
'''Checks if the webcam opened successfully.
cap.isOpened(): Returns True if the webcam is working; otherwise, False.
If the webcam fails, an error message is printed, and the program exits using exit().'''

    "while True:\n",
    "    # Capture frame-by-frame\n",
    "    ret, frame = cap.read()\n",
    "\n",
'''What it does: Captures a single frame from the webcam.
ret: A boolean indicating whether the frame was successfully captured.
frame: The actual image data of the captured frame.'''



    "    # Check if the frame was captured successfully\n",
    "    if not ret:\n",
    "        print(\"Error: Failed to grab frame.\")\n",
    "        break\n",
    "\n",
'''Verifies if the frame was successfully read.
If ret is False, it prints an error message and breaks out of the loop.'''

    "    # Convert the frame to grayscale\n",
    "    gray = cv2.cvtColor(frame, cv2.COLOR_BGR2GRAY)\n",
"\n",
''' Converts the frame from color (BGR) to grayscale.
cv2.cvtColor: A function used for color conversion.
Grayscale simplifies the image data, making face detection faster and more efficient.'''

    "    # Detect faces in the frame\n",
    "    detections = cascade_classifier.detectMultiScale(gray, scaleFactor=1.3, minNeighbors=5)\n",
    "\n",
'''Detects faces in the grayscale frame.
gray: The input grayscale image.
scaleFactor: Reduces the image size to improve detection accuracy (1.3 means 30% size reduction).
minNeighbors: Determines how many nearby objects are required for a detection to be valid.
A higher value reduces false positives.'''

    "    # Draw a rectangle around the detected faces\n",
    "    for (x, y, w, h) in detections:\n",
    "        cv2.rectangle(frame, (x, y), (x + w, y + h), (255, 0, 0), 2)\n",
    "\n",
'''What it does: Iterates through all detected faces and draws rectangles around them.
(x, y): The top-left corner of the detected face.
(w, h): The width and height of the detected face.
cv2.rectangle: Draws a rectangle on the frame with:
(x, y) and (x + w, y + h) as opposite corners.
(255, 0, 0): Color of the rectangle in BGR (blue in this case).
2: Thickness of the rectangle.'''

    "    # Display the resulting frame\n",
    "    cv2.imshow('frame', frame)\n",
    "\n",
'''What it does: Displays the current video frame in a window titled 'frame'.'''


    "    # Exit the loop when 'q' is pressed\n",
    "    if cv2.waitKey(1) & 0xFF == ord('q'):\n",
    "        break\n",
    "\n",

'''Listens for key presses and exits the loop if the user presses the 'q' key.
cv2.waitKey(1): Waits 1 millisecond for a key press.
ord('q'): Represents the ASCII value of 'q'.'''


    "# Release the capture and close windows\n",
    "cap.release()\n",
    "cv2.destroyAllWindows()\n"
'''cap.release(): Releases the webcam resource so other programs can use it.
cv2.destroyAllWindows(): Closes all OpenCV windows that were opened during the program.'''



'''This code captures live video from your webcam, detects faces in real-time using a Haar Cascade classifier,
and draws rectangles around the detected faces.
The program stops when you press the 'q' key.'''
   ]
  }
 ],
 "metadata": {
  "kernelspec": {
   "display_name": "Python 3",
   "language": "python",
   "name": "python3"
  },
  "language_info": {
   "codemirror_mode": {
    "name": "ipython",
    "version": 3
   },
   "file_extension": ".py",
   "mimetype": "text/x-python",
   "name": "python",
   "nbconvert_exporter": "python",
   "pygments_lexer": "ipython3",
   "version": "3.12.3"
  }
 },
 "nbformat": 4,
 "nbformat_minor": 5
}
